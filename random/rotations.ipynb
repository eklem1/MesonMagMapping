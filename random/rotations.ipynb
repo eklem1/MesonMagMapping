{
 "cells": [
  {
   "cell_type": "code",
   "execution_count": 2,
   "id": "53830427-879e-4908-afe5-acb4173d3624",
   "metadata": {},
   "outputs": [],
   "source": [
    "import numpy as np\n",
    "import matplotlib.pyplot as plt\n",
    "import sympy as sp\n",
    "from IPython.display import display, Markdown\n",
    "\n",
    "sp.init_printing(use_unicode=True)"
   ]
  },
  {
   "cell_type": "code",
   "execution_count": 16,
   "id": "5038426c-bfe5-4ab3-b757-c8be8f7637dd",
   "metadata": {},
   "outputs": [
    {
     "data": {
      "text/latex": [
       "$\\displaystyle \\left[\\begin{matrix}1 & 0 & 0\\\\0 & \\cos{\\left(\\beta t \\right)} & - \\sin{\\left(\\beta t \\right)}\\\\0 & \\sin{\\left(\\beta t \\right)} & \\cos{\\left(\\beta t \\right)}\\end{matrix}\\right]$"
      ],
      "text/plain": [
       "⎡1       0              0      ⎤\n",
       "⎢                              ⎥\n",
       "⎢0  cos(\\beta⋅t)  -sin(\\beta⋅t)⎥\n",
       "⎢                              ⎥\n",
       "⎣0  sin(\\beta⋅t)  cos(\\beta⋅t) ⎦"
      ]
     },
     "metadata": {},
     "output_type": "display_data"
    },
    {
     "data": {
      "text/latex": [
       "$\\displaystyle \\left[\\begin{matrix}- \\sin{\\left(\\beta \\right)} & - \\cos{\\left(\\beta \\right)} & 0\\\\\\cos{\\left(\\beta \\right)} & - \\sin{\\left(\\beta \\right)} & 0\\\\0 & 0 & 1\\end{matrix}\\right]$"
      ],
      "text/plain": [
       "⎡-sin(\\beta)  -cos(\\beta)  0⎤\n",
       "⎢                           ⎥\n",
       "⎢cos(\\beta)   -sin(\\beta)  0⎥\n",
       "⎢                           ⎥\n",
       "⎣     0            0       1⎦"
      ]
     },
     "metadata": {},
     "output_type": "display_data"
    }
   ],
   "source": [
    "beta, t = sp.symbols('\\\\beta t')\n",
    "R29 = sp.Matrix([[1, 0, 0 ], \n",
    "                [0, sp.cos(beta*t), -sp.sin(beta*t) ], \n",
    "                [0, sp.sin(beta*t), sp.cos(beta*t)] ])\n",
    "display(R29)\n",
    "\n",
    "R28 = sp.Matrix([[-sp.sin(beta), -sp.cos(beta), 0], \n",
    "                [sp.cos(beta), -sp.sin(beta), 0], \n",
    "                [0, 0, 1 ], ])\n",
    "display(R28)"
   ]
  },
  {
   "cell_type": "code",
   "execution_count": 12,
   "id": "49e8bfde-b991-487d-970c-199737f4d802",
   "metadata": {},
   "outputs": [],
   "source": [
    "x_r, y_r, z_r = sp.symbols('x_r, y_r, z_r')\n",
    "vec_x_r = sp.Matrix([x_r, y_r, z_r])\n",
    "\n",
    "x_r2, y_r2, z_r2 = sp.symbols('x_{r2}, y_{r2}, z_{r2}')\n",
    "vec_x_r2 = sp.Matrix([x_r2, y_r2, z_r2 ])"
   ]
  },
  {
   "cell_type": "code",
   "execution_count": 17,
   "id": "c4c463e7-6a37-4976-9ed2-a915c94ad0df",
   "metadata": {},
   "outputs": [
    {
     "data": {
      "text/latex": [
       "$\\displaystyle \\left[\\begin{matrix}- x_{r} \\sin{\\left(\\beta \\right)} - y_{r} \\cos{\\left(\\beta \\right)} \\cos{\\left(\\beta t \\right)} + z_{r} \\sin{\\left(\\beta t \\right)} \\cos{\\left(\\beta \\right)}\\\\x_{r} \\cos{\\left(\\beta \\right)} - y_{r} \\sin{\\left(\\beta \\right)} \\cos{\\left(\\beta t \\right)} + z_{r} \\sin{\\left(\\beta \\right)} \\sin{\\left(\\beta t \\right)}\\\\y_{r} \\sin{\\left(\\beta t \\right)} + z_{r} \\cos{\\left(\\beta t \\right)}\\end{matrix}\\right]$"
      ],
      "text/plain": [
       "⎡-xᵣ⋅sin(\\beta) - yᵣ⋅cos(\\beta)⋅cos(\\beta⋅t) + zᵣ⋅sin(\\beta⋅t)⋅cos(\\beta)⎤\n",
       "⎢                                                                        ⎥\n",
       "⎢xᵣ⋅cos(\\beta) - yᵣ⋅sin(\\beta)⋅cos(\\beta⋅t) + zᵣ⋅sin(\\beta)⋅sin(\\beta⋅t) ⎥\n",
       "⎢                                                                        ⎥\n",
       "⎣                   yᵣ⋅sin(\\beta⋅t) + zᵣ⋅cos(\\beta⋅t)                    ⎦"
      ]
     },
     "execution_count": 17,
     "metadata": {},
     "output_type": "execute_result"
    }
   ],
   "source": [
    "R28*R29*vec_x_r"
   ]
  },
  {
   "cell_type": "code",
   "execution_count": null,
   "id": "3734e5c7-8608-4028-bd83-9cbf102a53fc",
   "metadata": {},
   "outputs": [],
   "source": []
  }
 ],
 "metadata": {
  "kernelspec": {
   "display_name": "Python 3",
   "language": "python",
   "name": "python3"
  },
  "language_info": {
   "codemirror_mode": {
    "name": "ipython",
    "version": 3
   },
   "file_extension": ".py",
   "mimetype": "text/x-python",
   "name": "python",
   "nbconvert_exporter": "python",
   "pygments_lexer": "ipython3",
   "version": "3.8.8"
  }
 },
 "nbformat": 4,
 "nbformat_minor": 5
}
