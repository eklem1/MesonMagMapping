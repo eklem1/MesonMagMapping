{
 "cells": [
  {
   "cell_type": "code",
   "execution_count": 1,
   "id": "53830427-879e-4908-afe5-acb4173d3624",
   "metadata": {},
   "outputs": [],
   "source": [
    "import numpy as np\n",
    "import matplotlib.pyplot as plt\n",
    "import sympy as sp\n",
    "from IPython.display import display, Markdown, Math"
   ]
  },
  {
   "cell_type": "code",
   "execution_count": null,
   "id": "6cfbb64a-84eb-437e-8523-7e11d2998498",
   "metadata": {},
   "outputs": [],
   "source": [
    "#new coord system"
   ]
  },
  {
   "cell_type": "code",
   "execution_count": null,
   "id": "c9a2c1e4-3d7c-4902-93c0-a641e01cdd64",
   "metadata": {},
   "outputs": [],
   "source": []
  },
  {
   "cell_type": "code",
   "execution_count": 761,
   "id": "32405916-7327-4f31-a347-a5e909e6a7b3",
   "metadata": {},
   "outputs": [
    {
     "data": {
      "text/latex": [
       "$\\displaystyle \\operatorname{R_{A}}{\\left(t \\right)} = \\left[\\begin{matrix}1 & 0 & 0\\\\0 & \\cos{\\left(\\Omega t \\right)} & \\sin{\\left(\\Omega t \\right)}\\\\0 & - \\sin{\\left(\\Omega t \\right)} & \\cos{\\left(\\Omega t \\right)}\\end{matrix}\\right]$"
      ],
      "text/plain": [
       "Eq(R_{A}(t), Matrix([\n",
       "[1,              0,             0],\n",
       "[0,  cos(\\Omega*t), sin(\\Omega*t)],\n",
       "[0, -sin(\\Omega*t), cos(\\Omega*t)]]))"
      ]
     },
     "metadata": {},
     "output_type": "display_data"
    },
    {
     "data": {
      "text/latex": [
       "$\\displaystyle \\operatorname{R_{B}}{\\left( \\right)} = \\left[\\begin{matrix}\\cos{\\left(\\beta \\right)} & - \\sin{\\left(\\beta \\right)} & 0\\\\\\sin{\\left(\\beta \\right)} & \\cos{\\left(\\beta \\right)} & 0\\\\0 & 0 & 1\\end{matrix}\\right]$"
      ],
      "text/plain": [
       "Eq(R_{B}(), Matrix([\n",
       "[cos(\\beta), -sin(\\beta), 0],\n",
       "[sin(\\beta),  cos(\\beta), 0],\n",
       "[         0,           0, 1]]))"
      ]
     },
     "metadata": {},
     "output_type": "display_data"
    },
    {
     "data": {
      "text/latex": [
       "$\\displaystyle \\operatorname{R_{C}}{\\left(t \\right)} = \\left[\\begin{matrix}\\cos{\\left(a t \\right)} & 0 & \\sin{\\left(a t \\right)}\\\\0 & 1 & 0\\\\- \\sin{\\left(a t \\right)} & 0 & \\cos{\\left(a t \\right)}\\end{matrix}\\right]$"
      ],
      "text/plain": [
       "Eq(R_{C}(t), Matrix([\n",
       "[ cos(a*t), 0, sin(a*t)],\n",
       "[        0, 1,        0],\n",
       "[-sin(a*t), 0, cos(a*t)]]))"
      ]
     },
     "metadata": {},
     "output_type": "display_data"
    }
   ],
   "source": [
    "a, beta, t, t2 = sp.symbols(\"a \\\\beta t t^'\")\n",
    "Om = sp.symbols(\"\\Omega\", real = True, positive = True)\n",
    "\n",
    "R_A = sp.Function(\"R_{A}\")(t)\n",
    "R_B = sp.Function(\"R_{B}\")()\n",
    "R_C = sp.Function(\"R_{C}\")(t)\n",
    "\n",
    "#converts from F_lab to F_rot Om*t\n",
    "RA = sp.Matrix([[1, 0, 0 ], \n",
    "                [0, sp.cos(Om*t), sp.sin(Om*t) ], \n",
    "                [0, -sp.sin(Om*t), sp.cos(Om*t)] ])\n",
    "display(sp.Eq(R_A, RA, evaluate=False))\n",
    "\n",
    "#converts from F_Rot to F_rot2\n",
    "RB = sp.Matrix([[sp.cos(beta), -sp.sin(beta), 0], \n",
    "                [sp.sin(beta),  sp.cos(beta), 0], \n",
    "                [0, 0, 1 ]])\n",
    "display(sp.Eq(R_B, RB, evaluate=False))\n",
    "\n",
    "#converts from F_rot2 to F_rot3 a*t\n",
    "RC = sp.Matrix([[sp.cos(a*t), 0, sp.sin(a*t)], \n",
    "                 [0,1,0],\n",
    "                [-sp.sin(a*t),0, sp.cos(a*t)] ])\n",
    "display(sp.Eq(R_C, RC, evaluate=False))\n",
    "\n",
    "#quick check that these are proper rotation matrices\n",
    "# display(sp.simplify(RC.inv()), RC.T)"
   ]
  },
  {
   "cell_type": "code",
   "execution_count": 785,
   "id": "9282e194-ce2b-4b1f-908a-05b0edf0b732",
   "metadata": {},
   "outputs": [
    {
     "data": {
      "text/latex": [
       "$\\displaystyle P_{0} = \\left[\\begin{matrix}0\\\\P_{0}\\\\0\\end{matrix}\\right]$"
      ],
      "text/plain": [
       "Eq(P_0, Matrix([\n",
       "[  0],\n",
       "[P_0],\n",
       "[  0]]))"
      ]
     },
     "metadata": {},
     "output_type": "display_data"
    },
    {
     "data": {
      "text/latex": [
       "$\\displaystyle P_0|F_{rot3} = \\left[\\begin{matrix}- P_{0} \\sin{\\left(\\beta \\right)}\\\\P_{0} \\cos{\\left(\\beta \\right)}\\\\0\\end{matrix}\\right]$"
      ],
      "text/plain": [
       "Eq(P_0|F_{rot3}, Matrix([\n",
       "[-P_0*sin(\\beta)],\n",
       "[ P_0*cos(\\beta)],\n",
       "[              0]]))"
      ]
     },
     "metadata": {},
     "output_type": "display_data"
    }
   ],
   "source": [
    "P0 = sp.symbols(\"P_0\")\n",
    "P0FR2 = sp.symbols(\"P_0|F_{rot2}\")\n",
    "P0FR3 = sp.symbols(\"P_0|F_{rot3}\")\n",
    "\n",
    "#P(t=0) in the lab frame - only one static component\n",
    "P_0_Flab = sp.Matrix([0,P0,0])\n",
    "display(sp.Eq(P0, P_0_Flab, evaluate=False))\n",
    "\n",
    "#switch frames - with t=0 for the rotation matrices I think\n",
    "P_0_FR3 = sp.simplify(RC.replace(t, 0)*RB*RA.replace(t, 0)*P_0_Flab)\n",
    "\n",
    "display(sp.Eq(P0FR3, P_0_FR3, evaluate=False))"
   ]
  },
  {
   "cell_type": "code",
   "execution_count": 797,
   "id": "65a3a644-a4a0-4f9a-b328-ffc6ccc051b0",
   "metadata": {},
   "outputs": [
    {
     "data": {
      "text/latex": [
       "$\\displaystyle \\operatorname{P_{rot2}}{\\left(t \\right)} = \\left[\\begin{matrix}- P_{0} \\sin{\\left(\\beta \\right)} \\cos{\\left(a t \\right)}\\\\P_{0} \\cos{\\left(\\beta \\right)}\\\\- P_{0} \\sin{\\left(\\beta \\right)} \\sin{\\left(a t \\right)}\\end{matrix}\\right]$"
      ],
      "text/plain": [
       "Eq(P_{rot2}(t), Matrix([\n",
       "[-P_0*sin(\\beta)*cos(a*t)],\n",
       "[          P_0*cos(\\beta)],\n",
       "[-P_0*sin(\\beta)*sin(a*t)]]))"
      ]
     },
     "metadata": {},
     "output_type": "display_data"
    },
    {
     "data": {
      "text/latex": [
       "$\\displaystyle \\operatorname{P_{rot}}{\\left(t \\right)} = \\left[\\begin{matrix}P_{0} \\left(1 - \\cos{\\left(a t \\right)}\\right) \\sin{\\left(\\beta \\right)} \\cos{\\left(\\beta \\right)}\\\\P_{0} \\left(\\sin^{2}{\\left(\\beta \\right)} \\cos{\\left(a t \\right)} + \\cos^{2}{\\left(\\beta \\right)}\\right)\\\\- P_{0} \\sin{\\left(\\beta \\right)} \\sin{\\left(a t \\right)}\\end{matrix}\\right]$"
      ],
      "text/plain": [
       "Eq(P_{rot}(t), Matrix([\n",
       "[    P_0*(1 - cos(a*t))*sin(\\beta)*cos(\\beta)],\n",
       "[P_0*(sin(\\beta)**2*cos(a*t) + cos(\\beta)**2)],\n",
       "[                    -P_0*sin(\\beta)*sin(a*t)]]))"
      ]
     },
     "metadata": {},
     "output_type": "display_data"
    },
    {
     "data": {
      "text/latex": [
       "$\\displaystyle \\operatorname{P_{lab}}{\\left(t \\right)} = \\left[\\begin{matrix}P_{0} \\left(1 - \\cos{\\left(a t \\right)}\\right) \\sin{\\left(\\beta \\right)} \\cos{\\left(\\beta \\right)}\\\\P_{0} \\left(\\left(\\sin^{2}{\\left(\\beta \\right)} \\cos{\\left(a t \\right)} + \\cos^{2}{\\left(\\beta \\right)}\\right) \\cos{\\left(\\Omega t \\right)} + \\sin{\\left(\\beta \\right)} \\sin{\\left(\\Omega t \\right)} \\sin{\\left(a t \\right)}\\right)\\\\P_{0} \\left(\\left(\\sin^{2}{\\left(\\beta \\right)} \\cos{\\left(a t \\right)} + \\cos^{2}{\\left(\\beta \\right)}\\right) \\sin{\\left(\\Omega t \\right)} - \\sin{\\left(\\beta \\right)} \\sin{\\left(a t \\right)} \\cos{\\left(\\Omega t \\right)}\\right)\\end{matrix}\\right]$"
      ],
      "text/plain": [
       "Eq(P_{lab}(t), Matrix([\n",
       "[                                                        P_0*(1 - cos(a*t))*sin(\\beta)*cos(\\beta)],\n",
       "[P_0*((sin(\\beta)**2*cos(a*t) + cos(\\beta)**2)*cos(\\Omega*t) + sin(\\beta)*sin(\\Omega*t)*sin(a*t))],\n",
       "[P_0*((sin(\\beta)**2*cos(a*t) + cos(\\beta)**2)*sin(\\Omega*t) - sin(\\beta)*sin(a*t)*cos(\\Omega*t))]]))"
      ]
     },
     "metadata": {},
     "output_type": "display_data"
    },
    {
     "name": "stdout",
     "output_type": "stream",
     "text": [
      "\\left[\\begin{matrix}P_{0} \\left(1 - \\cos{\\left(a t \\right)}\\right) \\sin{\\left(\\beta \\right)} \\cos{\\left(\\beta \\right)}\\\\P_{0} \\left(\\left(\\sin^{2}{\\left(\\beta \\right)} \\cos{\\left(a t \\right)} + \\cos^{2}{\\left(\\beta \\right)}\\right) \\cos{\\left(\\Omega t \\right)} + \\sin{\\left(\\beta \\right)} \\sin{\\left(\\Omega t \\right)} \\sin{\\left(a t \\right)}\\right)\\\\P_{0} \\left(\\left(\\sin^{2}{\\left(\\beta \\right)} \\cos{\\left(a t \\right)} + \\cos^{2}{\\left(\\beta \\right)}\\right) \\sin{\\left(\\Omega t \\right)} - \\sin{\\left(\\beta \\right)} \\sin{\\left(a t \\right)} \\cos{\\left(\\Omega t \\right)}\\right)\\end{matrix}\\right]\n"
     ]
    }
   ],
   "source": [
    "#now we have P(t=0) in the second rotating frame where we can solve the bloch\n",
    "#equation trivially\n",
    "PFR2 = sp.Function(\"P_{rot2}\")(t)\n",
    "P_t_FR2 = sp.simplify(RC.T*P_0_FR3)\n",
    "display(sp.Eq(PFR2, P_t_FR2, evaluate=False))\n",
    "\n",
    "PFR1 = sp.Function(\"P_{rot}\")(t)\n",
    "P_t_FR1 = sp.simplify(RB.T*P_t_FR2)\n",
    "display(sp.Eq(PFR1, P_t_FR1, evaluate=False))\n",
    "# print(sp.latex(P_t_FR1))\n",
    "\n",
    "#and the final transformation to the lab frame\n",
    "Plab = sp.Function(\"P_{lab}\")(t)\n",
    "P_t_FRLab = sp.simplify(RA.T*P_t_FR1)\n",
    "\n",
    "display(sp.Eq(Plab, P_t_FRLab, evaluate=False))\n",
    "print(sp.latex(P_t_FRLab))"
   ]
  },
  {
   "cell_type": "code",
   "execution_count": 787,
   "id": "69fe4e90-52ee-4fa8-b404-715cf9d2ddd2",
   "metadata": {},
   "outputs": [],
   "source": [
    "#testing Jeff's solution instead\n",
    "# P_t_FRLab = sp.Matrix([ P0*sp.sin(beta)*sp.cos(beta)*(sp.cos(a*t)-1),\n",
    "#     P0*(sp.cos(Om*t)*(sp.sin(beta)**2*sp.cos(a*t)+sp.cos(beta)**2) + sp.sin(beta)*sp.sin(a*t)*sp.sin(Om*t)),\n",
    "#     P0*(-sp.sin(Om*t)*(sp.sin(beta)**2*sp.cos(a*t)+sp.cos(beta)**2) + sp.sin(beta)*sp.sin(a*t)*sp.cos(Om*t))   \n",
    "#                       ])\n",
    "# P_t_FRLab"
   ]
  },
  {
   "cell_type": "code",
   "execution_count": 788,
   "id": "52a83e12-2411-4fe3-af68-28f6853297c4",
   "metadata": {},
   "outputs": [
    {
     "name": "stdout",
     "output_type": "stream",
     "text": [
      "Sub:\n"
     ]
    },
    {
     "data": {
      "text/latex": [
       "$\\displaystyle \\cos{\\left(\\beta \\right)} = - \\frac{\\omega_{L}}{\\sqrt{\\Omega^{2} + \\omega_{L}^{2}}}$"
      ],
      "text/plain": [
       "Eq(cos(\\beta), -\\omega_L/sqrt(\\Omega**2 + \\omega_L**2))"
      ]
     },
     "metadata": {},
     "output_type": "display_data"
    },
    {
     "data": {
      "text/latex": [
       "$\\displaystyle \\sin{\\left(\\beta \\right)} = \\frac{\\Omega}{\\sqrt{\\Omega^{2} + \\omega_{L}^{2}}}$"
      ],
      "text/plain": [
       "Eq(sin(\\beta), \\Omega/sqrt(\\Omega**2 + \\omega_L**2))"
      ]
     },
     "metadata": {},
     "output_type": "display_data"
    },
    {
     "data": {
      "text/latex": [
       "$\\displaystyle \\operatorname{P_{lab}}{\\left(t \\right)} = \\left[\\begin{matrix}\\frac{P_{0} \\Omega \\omega_{L} \\left(\\cos{\\left(a t \\right)} - 1\\right)}{\\Omega^{2} + \\omega_{L}^{2}}\\\\\\frac{P_{0} \\left(\\Omega \\left(\\Omega^{2} + \\omega_{L}^{2}\\right) \\sin{\\left(\\Omega t \\right)} \\sin{\\left(a t \\right)} + \\sqrt{\\Omega^{2} + \\omega_{L}^{2}} \\left(\\Omega^{2} \\cos{\\left(a t \\right)} + \\omega_{L}^{2}\\right) \\cos{\\left(\\Omega t \\right)}\\right)}{\\left(\\Omega^{2} + \\omega_{L}^{2}\\right)^{\\frac{3}{2}}}\\\\- \\frac{P_{0} \\left(\\Omega \\left(\\Omega^{2} + \\omega_{L}^{2}\\right) \\sin{\\left(a t \\right)} \\cos{\\left(\\Omega t \\right)} - \\sqrt{\\Omega^{2} + \\omega_{L}^{2}} \\left(\\Omega^{2} \\cos{\\left(a t \\right)} + \\omega_{L}^{2}\\right) \\sin{\\left(\\Omega t \\right)}\\right)}{\\left(\\Omega^{2} + \\omega_{L}^{2}\\right)^{\\frac{3}{2}}}\\end{matrix}\\right]$"
      ],
      "text/plain": [
       "Eq(P_{lab}(t), Matrix([\n",
       "[                                                                                                                    P_0*\\Omega*\\omega_L*(cos(a*t) - 1)/(\\Omega**2 + \\omega_L**2)],\n",
       "[ P_0*(\\Omega*(\\Omega**2 + \\omega_L**2)*sin(\\Omega*t)*sin(a*t) + sqrt(\\Omega**2 + \\omega_L**2)*(\\Omega**2*cos(a*t) + \\omega_L**2)*cos(\\Omega*t))/(\\Omega**2 + \\omega_L**2)**(3/2)],\n",
       "[-P_0*(\\Omega*(\\Omega**2 + \\omega_L**2)*sin(a*t)*cos(\\Omega*t) - sqrt(\\Omega**2 + \\omega_L**2)*(\\Omega**2*cos(a*t) + \\omega_L**2)*sin(\\Omega*t))/(\\Omega**2 + \\omega_L**2)**(3/2)]]))"
      ]
     },
     "metadata": {},
     "output_type": "display_data"
    }
   ],
   "source": [
    "wL = sp.symbols(\"\\omega_L\")\n",
    "a_sub = sp.sqrt(wL**2 + Om**2)\n",
    "\n",
    "cos_b = -wL/a_sub\n",
    "sin_b = Om/a_sub\n",
    "\n",
    "print(\"Sub:\")\n",
    "display(sp.Eq(sp.cos(beta), cos_b, evaluate=False), sp.Eq(sp.sin(beta), sin_b, evaluate=False))\n",
    "\n",
    "P_t_FRLab_betasub = sp.simplify(P_t_FRLab.replace(sp.cos(beta), cos_b).replace(sp.sin(beta), sin_b))\n",
    "\n",
    "display(sp.Eq(Plab, P_t_FRLab_betasub, evaluate=False))"
   ]
  },
  {
   "cell_type": "code",
   "execution_count": 789,
   "id": "3d4e71ad-69db-4478-8dec-daf5d35640ff",
   "metadata": {},
   "outputs": [
    {
     "data": {
      "text/latex": [
       "$\\displaystyle \\operatorname{P_{lab}}{\\left(t \\right)} = \\left[\\begin{matrix}\\frac{P_{0} \\Omega \\omega_{L} \\left(\\cos{\\left(t \\sqrt{\\Omega^{2} + \\omega_{L}^{2}} \\right)} - 1\\right)}{\\Omega^{2} + \\omega_{L}^{2}}\\\\\\frac{P_{0} \\left(\\Omega \\left(\\Omega^{2} + \\omega_{L}^{2}\\right) \\sin{\\left(\\Omega t \\right)} \\sin{\\left(t \\sqrt{\\Omega^{2} + \\omega_{L}^{2}} \\right)} + \\sqrt{\\Omega^{2} + \\omega_{L}^{2}} \\left(\\Omega^{2} \\cos{\\left(t \\sqrt{\\Omega^{2} + \\omega_{L}^{2}} \\right)} + \\omega_{L}^{2}\\right) \\cos{\\left(\\Omega t \\right)}\\right)}{\\left(\\Omega^{2} + \\omega_{L}^{2}\\right)^{\\frac{3}{2}}}\\\\- \\frac{P_{0} \\left(\\Omega \\left(\\Omega^{2} + \\omega_{L}^{2}\\right) \\sin{\\left(t \\sqrt{\\Omega^{2} + \\omega_{L}^{2}} \\right)} \\cos{\\left(\\Omega t \\right)} - \\sqrt{\\Omega^{2} + \\omega_{L}^{2}} \\left(\\Omega^{2} \\cos{\\left(t \\sqrt{\\Omega^{2} + \\omega_{L}^{2}} \\right)} + \\omega_{L}^{2}\\right) \\sin{\\left(\\Omega t \\right)}\\right)}{\\left(\\Omega^{2} + \\omega_{L}^{2}\\right)^{\\frac{3}{2}}}\\end{matrix}\\right]$"
      ],
      "text/plain": [
       "Eq(P_{lab}(t), Matrix([\n",
       "[                                                                                                                                                P_0*\\Omega*\\omega_L*(cos(t*sqrt(\\Omega**2 + \\omega_L**2)) - 1)/(\\Omega**2 + \\omega_L**2)],\n",
       "[ P_0*(\\Omega*(\\Omega**2 + \\omega_L**2)*sin(\\Omega*t)*sin(t*sqrt(\\Omega**2 + \\omega_L**2)) + sqrt(\\Omega**2 + \\omega_L**2)*(\\Omega**2*cos(t*sqrt(\\Omega**2 + \\omega_L**2)) + \\omega_L**2)*cos(\\Omega*t))/(\\Omega**2 + \\omega_L**2)**(3/2)],\n",
       "[-P_0*(\\Omega*(\\Omega**2 + \\omega_L**2)*sin(t*sqrt(\\Omega**2 + \\omega_L**2))*cos(\\Omega*t) - sqrt(\\Omega**2 + \\omega_L**2)*(\\Omega**2*cos(t*sqrt(\\Omega**2 + \\omega_L**2)) + \\omega_L**2)*sin(\\Omega*t))/(\\Omega**2 + \\omega_L**2)**(3/2)]]))"
      ]
     },
     "metadata": {},
     "output_type": "display_data"
    }
   ],
   "source": [
    "P_t_FRLab_Asub = sp.simplify(P_t_FRLab_betasub.replace(a, a_sub))\n",
    "\n",
    "display(sp.Eq(Plab, P_t_FRLab_Asub, evaluate=False))"
   ]
  },
  {
   "cell_type": "markdown",
   "id": "f7c43905-abda-4187-ac82-ad7a9d2cc46d",
   "metadata": {},
   "source": [
    "now use $a=\\sqrt{ \\Omega^2 +\\omega_L^2} = \\Omega\\sqrt{1+k^2}$ and $k = \\omega_L/\\Omega$"
   ]
  },
  {
   "cell_type": "code",
   "execution_count": 790,
   "id": "155b1bd0-6ba7-4765-8ebb-89c0db41d2e7",
   "metadata": {},
   "outputs": [
    {
     "data": {
      "text/latex": [
       "$\\displaystyle \\operatorname{P_{lab}}{\\left(t \\right)} = \\left[\\begin{matrix}\\frac{P_{0} k \\left(\\cos{\\left(\\Omega t \\sqrt{k^{2} + 1} \\right)} - 1\\right)}{k^{2} + 1}\\\\\\frac{P_{0} \\left(\\sqrt{k^{2} + 1} \\left(k^{2} + \\cos{\\left(\\Omega t \\sqrt{k^{2} + 1} \\right)}\\right) \\cos{\\left(\\Omega t \\right)} + \\left(k^{2} + 1\\right) \\sin{\\left(\\Omega t \\right)} \\sin{\\left(\\Omega t \\sqrt{k^{2} + 1} \\right)}\\right)}{\\left(k^{2} + 1\\right)^{\\frac{3}{2}}}\\\\\\frac{P_{0} \\left(\\sqrt{k^{2} + 1} \\left(k^{2} + \\cos{\\left(\\Omega t \\sqrt{k^{2} + 1} \\right)}\\right) \\sin{\\left(\\Omega t \\right)} - \\left(k^{2} + 1\\right) \\sin{\\left(\\Omega t \\sqrt{k^{2} + 1} \\right)} \\cos{\\left(\\Omega t \\right)}\\right)}{\\left(k^{2} + 1\\right)^{\\frac{3}{2}}}\\end{matrix}\\right]$"
      ],
      "text/plain": [
       "Eq(P_{lab}(t), Matrix([\n",
       "[                                                                                               P_0*k*(cos(\\Omega*t*sqrt(k**2 + 1)) - 1)/(k**2 + 1)],\n",
       "[P_0*(sqrt(k**2 + 1)*(k**2 + cos(\\Omega*t*sqrt(k**2 + 1)))*cos(\\Omega*t) + (k**2 + 1)*sin(\\Omega*t)*sin(\\Omega*t*sqrt(k**2 + 1)))/(k**2 + 1)**(3/2)],\n",
       "[P_0*(sqrt(k**2 + 1)*(k**2 + cos(\\Omega*t*sqrt(k**2 + 1)))*sin(\\Omega*t) - (k**2 + 1)*sin(\\Omega*t*sqrt(k**2 + 1))*cos(\\Omega*t))/(k**2 + 1)**(3/2)]]))"
      ]
     },
     "metadata": {},
     "output_type": "display_data"
    }
   ],
   "source": [
    "k = sp.symbols(\"k\", real = True, positive=True)\n",
    "a_sub = Om*sp.sqrt(1 + k**2)\n",
    "sqrt = Om**2*(1 + k**2)\n",
    "\n",
    "P_t_FRLab_k1 = sp.simplify(P_t_FRLab_betasub.replace(a, a_sub).replace((Om**2+wL**2), sqrt))\n",
    "P_t_FRLab_k = sp.simplify(P_t_FRLab_k1.replace(wL, k*Om))\n",
    "\n",
    "display(sp.Eq(Plab, P_t_FRLab_k, evaluate=False))"
   ]
  },
  {
   "cell_type": "markdown",
   "id": "30534dad-d7ae-437e-9026-3ef826eefa4d",
   "metadata": {},
   "source": [
    "Now we know $t=\\theta / \\Omega$"
   ]
  },
  {
   "cell_type": "code",
   "execution_count": 799,
   "id": "c99a5d6e-a8fa-4aaa-9de3-7c8a24b1af4a",
   "metadata": {},
   "outputs": [
    {
     "data": {
      "text/latex": [
       "$\\displaystyle \\operatorname{P_{lab}}{\\left(k,\\theta \\right)} = \\left[\\begin{matrix}\\frac{P_{0} k \\left(\\cos{\\left(\\theta \\sqrt{k^{2} + 1} \\right)} - 1\\right)}{k^{2} + 1}\\\\\\frac{P_{0} \\left(\\sqrt{k^{2} + 1} \\left(k^{2} + \\cos{\\left(\\theta \\sqrt{k^{2} + 1} \\right)}\\right) \\cos{\\left(\\theta \\right)} + \\left(k^{2} + 1\\right) \\sin{\\left(\\theta \\right)} \\sin{\\left(\\theta \\sqrt{k^{2} + 1} \\right)}\\right)}{\\left(k^{2} + 1\\right)^{\\frac{3}{2}}}\\\\\\frac{P_{0} \\left(\\sqrt{k^{2} + 1} \\left(k^{2} + \\cos{\\left(\\theta \\sqrt{k^{2} + 1} \\right)}\\right) \\sin{\\left(\\theta \\right)} - \\left(k^{2} + 1\\right) \\sin{\\left(\\theta \\sqrt{k^{2} + 1} \\right)} \\cos{\\left(\\theta \\right)}\\right)}{\\left(k^{2} + 1\\right)^{\\frac{3}{2}}}\\end{matrix}\\right]$"
      ],
      "text/plain": [
       "Eq(P_{lab}(k, \\theta), Matrix([\n",
       "[                                                                                         P_0*k*(cos(\\theta*sqrt(k**2 + 1)) - 1)/(k**2 + 1)],\n",
       "[P_0*(sqrt(k**2 + 1)*(k**2 + cos(\\theta*sqrt(k**2 + 1)))*cos(\\theta) + (k**2 + 1)*sin(\\theta)*sin(\\theta*sqrt(k**2 + 1)))/(k**2 + 1)**(3/2)],\n",
       "[P_0*(sqrt(k**2 + 1)*(k**2 + cos(\\theta*sqrt(k**2 + 1)))*sin(\\theta) - (k**2 + 1)*sin(\\theta*sqrt(k**2 + 1))*cos(\\theta))/(k**2 + 1)**(3/2)]]))"
      ]
     },
     "metadata": {},
     "output_type": "display_data"
    }
   ],
   "source": [
    "the = sp.symbols(\"\\\\theta\")\n",
    "Plab_k = sp.Function(\"P_{lab}\")(k, the)\n",
    "\n",
    "t_sub = the/Om\n",
    "\n",
    "P_t_FRLab_theta = sp.simplify(P_t_FRLab_k.replace(t, t_sub))\n",
    "\n",
    "display(sp.Eq(Plab_k, P_t_FRLab_theta, evaluate=False))\n",
    "# print(sp.latex(P_t_FRLab_theta))"
   ]
  },
  {
   "cell_type": "code",
   "execution_count": 792,
   "id": "4185be6c-dec5-4098-99b1-156ebe1a1398",
   "metadata": {},
   "outputs": [
    {
     "data": {
      "text/latex": [
       "$\\displaystyle \\left[\\begin{matrix}0\\\\P_{0}\\\\0\\end{matrix}\\right]$"
      ],
      "text/plain": [
       "Matrix([\n",
       "[  0],\n",
       "[P_0],\n",
       "[  0]])"
      ]
     },
     "metadata": {},
     "output_type": "display_data"
    }
   ],
   "source": [
    "# q = sp.symbols(\"q\")\n",
    "# P_t_FRLab_theta.replace(Om, q)\n",
    "#check for theta = 0\n",
    "display(sp.simplify(P_t_FRLab_theta.replace(the, 0)))"
   ]
  },
  {
   "cell_type": "markdown",
   "id": "2fc9878b-d1a0-4e18-bf19-6a265ba672ab",
   "metadata": {},
   "source": [
    "Setting $\\theta = \\frac{\\pi}{2}$"
   ]
  },
  {
   "cell_type": "code",
   "execution_count": 801,
   "id": "7755a52e-c7ce-438d-9a92-7cf284e77e0a",
   "metadata": {},
   "outputs": [
    {
     "data": {
      "text/latex": [
       "$\\displaystyle \\operatorname{P_{lab}}{\\left(k,\\frac{\\pi}{2} \\right)} = \\left[\\begin{matrix}\\frac{P_{0} k \\left(\\cos{\\left(\\frac{\\pi \\sqrt{k^{2} + 1}}{2} \\right)} - 1\\right)}{k^{2} + 1}\\\\\\frac{P_{0} \\sin{\\left(\\frac{\\pi \\sqrt{k^{2} + 1}}{2} \\right)}}{\\sqrt{k^{2} + 1}}\\\\\\frac{P_{0} \\left(k^{2} + \\cos{\\left(\\frac{\\pi \\sqrt{k^{2} + 1}}{2} \\right)}\\right)}{k^{2} + 1}\\end{matrix}\\right]$"
      ],
      "text/plain": [
       "Eq(P_{lab}(k, pi/2), Matrix([\n",
       "[ P_0*k*(cos(pi*sqrt(k**2 + 1)/2) - 1)/(k**2 + 1)],\n",
       "[     P_0*sin(pi*sqrt(k**2 + 1)/2)/sqrt(k**2 + 1)],\n",
       "[P_0*(k**2 + cos(pi*sqrt(k**2 + 1)/2))/(k**2 + 1)]]))"
      ]
     },
     "metadata": {},
     "output_type": "display_data"
    },
    {
     "name": "stdout",
     "output_type": "stream",
     "text": [
      "\\left[\\begin{matrix}\\frac{P_{0} k \\left(\\cos{\\left(\\frac{\\pi \\sqrt{k^{2} + 1}}{2} \\right)} - 1\\right)}{k^{2} + 1}\\\\\\frac{P_{0} \\sin{\\left(\\frac{\\pi \\sqrt{k^{2} + 1}}{2} \\right)}}{\\sqrt{k^{2} + 1}}\\\\\\frac{P_{0} \\left(k^{2} + \\cos{\\left(\\frac{\\pi \\sqrt{k^{2} + 1}}{2} \\right)}\\right)}{k^{2} + 1}\\end{matrix}\\right]\n"
     ]
    }
   ],
   "source": [
    "P_t_FRLab_90 = sp.simplify(P_t_FRLab_theta.replace(the, sp.pi/2))\n",
    "\n",
    "display(sp.Eq(Plab_k.replace(the, sp.pi/2), P_t_FRLab_90, evaluate=False))\n",
    "print(sp.latex(P_t_FRLab_90))"
   ]
  },
  {
   "cell_type": "code",
   "execution_count": 834,
   "id": "c4371d9c-86f8-4d7a-8fbd-94d0051f26f0",
   "metadata": {},
   "outputs": [
    {
     "data": {
      "image/png": "[encoded data removed]",
      "text/plain": [
       "<Figure size 864x288 with 3 Axes>"
      ]
     },
     "metadata": {
      "needs_background": "light"
     },
     "output_type": "display_data"
    }
   ],
   "source": [
    "k_arr = np.linspace(0, 20, 100)\n",
    "# print(k_arr)\n",
    "plt.rcParams.update({'font.size': 14})\n",
    "fig, axs = plt.subplots(1, 3, figsize=(12,4))\n",
    "\n",
    "# f = lambdify(x, expr, 'numpy')\n",
    "P_t_FRLab_1 = P_t_FRLab_90[0].replace(P0, 1)\n",
    "# display(P_t_FRLab_1)\n",
    "P_t_FRLab_funct = sp.lambdify(k, P_t_FRLab_1)\n",
    "axs[0].plot(k_arr, P_t_FRLab_funct(k_arr))\n",
    "axs[0].set_xlabel('k')\n",
    "axs[0].set_ylabel('$P_x$')\n",
    "\n",
    "P_t_FRLab_1 = P_t_FRLab_90[1].replace(P0, 1)\n",
    "# display(P_t_FRLab_1)\n",
    "P_t_FRLab_funct = sp.lambdify(k, P_t_FRLab_1)\n",
    "axs[1].plot(k_arr, P_t_FRLab_funct(k_arr))\n",
    "axs[1].set_xlabel('k')\n",
    "axs[1].set_ylabel('$P_y$')\n",
    "\n",
    "P_t_FRLab_1 = P_t_FRLab_90[2].replace(P0, 1)\n",
    "P_t_FRLab_funct = sp.lambdify(k, P_t_FRLab_1)\n",
    "axs[2].plot(k_arr, P_t_FRLab_funct(k_arr))\n",
    "axs[2].set_xlabel('k')\n",
    "axs[2].set_ylabel('$P_z$')\n",
    "\n",
    "fig.tight_layout()\n",
    "axs[0].grid()\n",
    "axs[1].grid()\n",
    "axs[2].grid()\n",
    "plt.show()"
   ]
  },
  {
   "cell_type": "code",
   "execution_count": null,
   "id": "0013e103-83f6-40cc-92f4-93b43faefdbc",
   "metadata": {},
   "outputs": [],
   "source": []
  },
  {
   "cell_type": "code",
   "execution_count": 837,
   "id": "ff038065-de3b-4854-a953-d5a1c20f030e",
   "metadata": {},
   "outputs": [
    {
     "data": {
      "image/png": "[encoded data removed]",
      "text/plain": [
       "<Figure size 432x288 with 1 Axes>"
      ]
     },
     "metadata": {
      "needs_background": "light"
     },
     "output_type": "display_data"
    }
   ],
   "source": [
    "P_straight = lambda k: 1-np.exp(-np.pi*k)\n",
    "\n",
    "plt.plot(k_arr[:20], P_straight(k_arr[:20]))\n",
    "plt.xlabel('k')\n",
    "plt.ylabel('$P_y$')\n",
    "plt.grid()\n",
    "plt.show()"
   ]
  },
  {
   "cell_type": "code",
   "execution_count": null,
   "id": "3ca364b0-e0d8-48a2-8d68-17c229217172",
   "metadata": {},
   "outputs": [],
   "source": []
  }
 ],
 "metadata": {
  "kernelspec": {
   "display_name": "Python 3",
   "language": "python",
   "name": "python3"
  },
  "language_info": {
   "codemirror_mode": {
    "name": "ipython",
    "version": 3
   },
   "file_extension": ".py",
   "mimetype": "text/x-python",
   "name": "python",
   "nbconvert_exporter": "python",
   "pygments_lexer": "ipython3",
   "version": "3.8.8"
  }
 },
 "nbformat": 4,
 "nbformat_minor": 5
}
