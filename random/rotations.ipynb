{
 "cells": [
  {
   "cell_type": "code",
   "execution_count": 1,
   "id": "53830427-879e-4908-afe5-acb4173d3624",
   "metadata": {},
   "outputs": [],
   "source": [
    "import numpy as np\n",
    "import matplotlib.pyplot as plt\n",
    "import sympy as sp\n",
    "from IPython.display import display, Markdown, Math"
   ]
  },
  {
   "cell_type": "code",
   "execution_count": null,
   "id": "6cfbb64a-84eb-437e-8523-7e11d2998498",
   "metadata": {},
   "outputs": [],
   "source": [
    "#new coord system"
   ]
  },
  {
   "cell_type": "code",
   "execution_count": 66,
   "id": "8121cdaf-3f1a-471e-9663-a7ab486412eb",
   "metadata": {},
   "outputs": [
    {
     "data": {
      "text/latex": [
       "$\\displaystyle \\operatorname{R_{A}}{\\left(t \\right)} = \\left[\\begin{matrix}1 & 0 & 0\\\\0 & \\cos{\\left(\\Omega t \\right)} & - \\sin{\\left(\\Omega t \\right)}\\\\0 & \\sin{\\left(\\Omega t \\right)} & \\cos{\\left(\\Omega t \\right)}\\end{matrix}\\right]$"
      ],
      "text/plain": [
       "Eq(R_{A}(t), Matrix([\n",
       "[1,             0,              0],\n",
       "[0, cos(\\Omega*t), -sin(\\Omega*t)],\n",
       "[0, sin(\\Omega*t),  cos(\\Omega*t)]]))"
      ]
     },
     "metadata": {},
     "output_type": "display_data"
    },
    {
     "data": {
      "text/latex": [
       "$\\displaystyle \\operatorname{R_{B}}{\\left( \\right)} = \\left[\\begin{matrix}- \\sin{\\left(\\beta \\right)} & - \\cos{\\left(\\beta \\right)} & 0\\\\\\cos{\\left(\\beta \\right)} & - \\sin{\\left(\\beta \\right)} & 0\\\\0 & 0 & 1\\end{matrix}\\right]$"
      ],
      "text/plain": [
       "Eq(R_{B}(), Matrix([\n",
       "[-sin(\\beta), -cos(\\beta), 0],\n",
       "[ cos(\\beta), -sin(\\beta), 0],\n",
       "[          0,           0, 1]]))"
      ]
     },
     "metadata": {},
     "output_type": "display_data"
    },
    {
     "data": {
      "text/latex": [
       "$\\displaystyle \\operatorname{R_{C}}{\\left(t \\right)} = \\left[\\begin{matrix}\\cos{\\left(a t \\right)} & 0 & \\sin{\\left(a t \\right)}\\\\0 & 1 & 0\\\\- \\sin{\\left(a t \\right)} & 0 & \\cos{\\left(a t \\right)}\\end{matrix}\\right]$"
      ],
      "text/plain": [
       "Eq(R_{C}(t), Matrix([\n",
       "[ cos(a*t), 0, sin(a*t)],\n",
       "[        0, 1,        0],\n",
       "[-sin(a*t), 0, cos(a*t)]]))"
      ]
     },
     "metadata": {},
     "output_type": "display_data"
    }
   ],
   "source": [
    "a, beta, t, Om, t2= sp.symbols(\"a \\\\beta t \\Omega t^'\")\n",
    "\n",
    "R_A = sp.Function(\"R_{A}\")(t)\n",
    "R_B = sp.Function(\"R_{B}\")()\n",
    "R_C = sp.Function(\"R_{C}\")(t)\n",
    "\n",
    "#converts from F_lab to F_rot Om*t\n",
    "RA = sp.Matrix([[1, 0, 0 ], \n",
    "                [0, sp.cos(Om*t), -sp.sin(Om*t) ], \n",
    "                [0, sp.sin(Om*t), sp.cos(Om*t)] ])\n",
    "display(sp.Eq(R_A, RA, evaluate=False))\n",
    "\n",
    "#converts from F_Rot to F_rot1.5\n",
    "RB = sp.Matrix([[-sp.sin(beta), -sp.cos(beta), 0], \n",
    "                [sp.cos(beta), -sp.sin(beta), 0], \n",
    "                [0, 0, 1 ], ])\n",
    "display(sp.Eq(R_B, RB, evaluate=False))\n",
    "\n",
    "#converts from F_rot1.5 to F_rot2 a*t\n",
    "RC = sp.Matrix([[sp.cos(a*t), 0, sp.sin(a*t)], \n",
    "                 [0,1,0],\n",
    "                [-sp.sin(a*t),0, sp.cos(a*t)] ])\n",
    "display(sp.Eq(R_C, RC, evaluate=False))"
   ]
  },
  {
   "cell_type": "code",
   "execution_count": 68,
   "id": "c1cc0873-3a61-45f4-a7e0-1287d830a04e",
   "metadata": {},
   "outputs": [
    {
     "data": {
      "text/latex": [
       "$\\displaystyle \\left[\\begin{matrix}0\\\\\\sin^{2}{\\left(\\Omega t \\right)} + \\cos^{2}{\\left(\\Omega t \\right)}\\\\0\\end{matrix}\\right] = \\left[\\begin{matrix}0\\\\1\\\\0\\end{matrix}\\right]$"
      ],
      "text/plain": [
       "Eq(Matrix([\n",
       "[                                  0],\n",
       "[sin(\\Omega*t)**2 + cos(\\Omega*t)**2],\n",
       "[                                  0]]), Matrix([\n",
       "[0],\n",
       "[1],\n",
       "[0]]))"
      ]
     },
     "metadata": {},
     "output_type": "display_data"
    }
   ],
   "source": [
    "#check that I am doing the conversion the right way - yes\n",
    "P_Flab_1 = sp.Matrix([0,sp.cos(Om*t),-sp.sin(Om*t)])\n",
    "\n",
    "display(sp.Eq(RA*P_Flab_1, sp.simplify(RA*P_Flab_1), evaluate=False))"
   ]
  },
  {
   "cell_type": "code",
   "execution_count": null,
   "id": "fa0eafc7-aa0d-4102-a33c-39a284d3245d",
   "metadata": {},
   "outputs": [],
   "source": []
  },
  {
   "cell_type": "code",
   "execution_count": 88,
   "id": "9eb67e0b-c644-4840-a9f4-6ca98dd54365",
   "metadata": {},
   "outputs": [
    {
     "data": {
      "text/latex": [
       "$\\displaystyle P_{0} = \\left[\\begin{matrix}0\\\\P_{0}\\\\0\\end{matrix}\\right]$"
      ],
      "text/plain": [
       "Eq(P_0, Matrix([\n",
       "[  0],\n",
       "[P_0],\n",
       "[  0]]))"
      ]
     },
     "metadata": {},
     "output_type": "display_data"
    },
    {
     "data": {
      "text/latex": [
       "$\\displaystyle P_0|F_{rot3} = \\left[\\begin{matrix}- P_{0} \\cos{\\left(\\beta \\right)}\\\\- P_{0} \\sin{\\left(\\beta \\right)}\\\\0\\end{matrix}\\right]$"
      ],
      "text/plain": [
       "Eq(P_0|F_{rot3}, Matrix([\n",
       "[-P_0*cos(\\beta)],\n",
       "[-P_0*sin(\\beta)],\n",
       "[              0]]))"
      ]
     },
     "metadata": {},
     "output_type": "display_data"
    }
   ],
   "source": [
    "P0 = sp.symbols(\"P_0\")\n",
    "P0FR2 = sp.symbols(\"P_0|F_{rot2}\")\n",
    "P0FR3 = sp.symbols(\"P_0|F_{rot3}\")\n",
    "\n",
    "\n",
    "#P(t=0) in the lab frame - only one static component\n",
    "P_0_Flab = sp.Matrix([0,P0,0])\n",
    "display(sp.Eq(P0, P_0_Flab, evaluate=False))\n",
    "\n",
    "#switch frames\n",
    "P_0_FR3 = sp.simplify(RC.replace(t, 0)*RB*RA.replace(t, 0)*P_0_Flab)\n",
    "\n",
    "display(sp.Eq(P0FR3, P_0_FR3, evaluate=False))"
   ]
  },
  {
   "cell_type": "code",
   "execution_count": 109,
   "id": "d522d6d7-4d06-4352-b72a-74076782b08c",
   "metadata": {},
   "outputs": [
    {
     "data": {
      "text/latex": [
       "$\\displaystyle \\operatorname{P_{rot}}{\\left(t \\right)} = \\left[\\begin{matrix}P_{0} \\left(\\cos{\\left(a t \\right)} - 1\\right) \\sin{\\left(\\beta \\right)} \\cos{\\left(\\beta \\right)}\\\\P_{0} \\left(\\sin^{2}{\\left(\\beta \\right)} + \\cos^{2}{\\left(\\beta \\right)} \\cos{\\left(a t \\right)}\\right)\\\\- P_{0} \\sin{\\left(a t \\right)} \\cos{\\left(\\beta \\right)}\\end{matrix}\\right]$"
      ],
      "text/plain": [
       "Eq(P_{rot}(t), Matrix([\n",
       "[    P_0*(cos(a*t) - 1)*sin(\\beta)*cos(\\beta)],\n",
       "[P_0*(sin(\\beta)**2 + cos(\\beta)**2*cos(a*t))],\n",
       "[                    -P_0*sin(a*t)*cos(\\beta)]]))"
      ]
     },
     "metadata": {},
     "output_type": "display_data"
    }
   ],
   "source": [
    "#now we have P(t=0) in the second rotating frame where we can solve the bloch\n",
    "#equation trivially\n",
    "PFR1 = sp.Function(\"P_{rot}\")(t)\n",
    "P_t_FR1 = sp.simplify(RB.T*RC.T*P_0_FR2)\n",
    "\n",
    "display(sp.Eq(PFR1, P_t_FR1, evaluate=False))\n",
    "# print(sp.latex(P_t_FR1))"
   ]
  },
  {
   "cell_type": "code",
   "execution_count": 110,
   "id": "f3122db0-1e36-4b97-b767-0fe95dbbc1fc",
   "metadata": {},
   "outputs": [
    {
     "data": {
      "text/latex": [
       "$\\displaystyle \\operatorname{P_{lab}}{\\left(t \\right)} = \\left[\\begin{matrix}P_{0} \\left(\\cos{\\left(a t \\right)} - 1\\right) \\sin{\\left(\\beta \\right)} \\cos{\\left(\\beta \\right)}\\\\P_{0} \\left(\\left(\\sin^{2}{\\left(\\beta \\right)} + \\cos^{2}{\\left(\\beta \\right)} \\cos{\\left(a t \\right)}\\right) \\cos{\\left(\\Omega t \\right)} - \\sin{\\left(\\Omega t \\right)} \\sin{\\left(a t \\right)} \\cos{\\left(\\beta \\right)}\\right)\\\\- P_{0} \\left(\\left(\\sin^{2}{\\left(\\beta \\right)} + \\cos^{2}{\\left(\\beta \\right)} \\cos{\\left(a t \\right)}\\right) \\sin{\\left(\\Omega t \\right)} + \\sin{\\left(a t \\right)} \\cos{\\left(\\beta \\right)} \\cos{\\left(\\Omega t \\right)}\\right)\\end{matrix}\\right]$"
      ],
      "text/plain": [
       "Eq(P_{lab}(t), Matrix([\n",
       "[                                                         P_0*(cos(a*t) - 1)*sin(\\beta)*cos(\\beta)],\n",
       "[ P_0*((sin(\\beta)**2 + cos(\\beta)**2*cos(a*t))*cos(\\Omega*t) - sin(\\Omega*t)*sin(a*t)*cos(\\beta))],\n",
       "[-P_0*((sin(\\beta)**2 + cos(\\beta)**2*cos(a*t))*sin(\\Omega*t) + sin(a*t)*cos(\\beta)*cos(\\Omega*t))]]))"
      ]
     },
     "metadata": {},
     "output_type": "display_data"
    }
   ],
   "source": [
    "Plab = sp.Function(\"P_{lab}\")(t)\n",
    "\n",
    "#and the final transformation\n",
    "P_t_FRLab = sp.simplify(RA.T*P_t_FR1)\n",
    "\n",
    "display(sp.Eq(Plab, P_t_FRLab, evaluate=False))\n",
    "# print(sp.latex(P_t_FRLab))"
   ]
  },
  {
   "cell_type": "code",
   "execution_count": 92,
   "id": "94b97063-aa49-4a11-9979-37600c75dac9",
   "metadata": {},
   "outputs": [
    {
     "data": {
      "text/latex": [
       "$\\displaystyle \\operatorname{P_{lab}}{\\left(t \\right)} = \\left[\\begin{matrix}\\frac{P_{0} \\Omega \\omega_{L} \\left(1 - \\cos{\\left(a t \\right)}\\right)}{\\Omega^{2} + \\omega_{L}^{2}}\\\\\\frac{P_{0} \\left(\\omega_{L} \\left(\\Omega^{2} + \\omega_{L}^{2}\\right) \\sin{\\left(\\Omega t \\right)} \\sin{\\left(a t \\right)} + \\sqrt{\\Omega^{2} + \\omega_{L}^{2}} \\left(\\Omega^{2} + \\omega_{L}^{2} \\cos{\\left(a t \\right)}\\right) \\cos{\\left(\\Omega t \\right)}\\right)}{\\left(\\Omega^{2} + \\omega_{L}^{2}\\right)^{\\frac{3}{2}}}\\\\\\frac{P_{0} \\left(\\omega_{L} \\left(\\Omega^{2} + \\omega_{L}^{2}\\right) \\sin{\\left(a t \\right)} \\cos{\\left(\\Omega t \\right)} - \\sqrt{\\Omega^{2} + \\omega_{L}^{2}} \\left(\\Omega^{2} + \\omega_{L}^{2} \\cos{\\left(a t \\right)}\\right) \\sin{\\left(\\Omega t \\right)}\\right)}{\\left(\\Omega^{2} + \\omega_{L}^{2}\\right)^{\\frac{3}{2}}}\\end{matrix}\\right]$"
      ],
      "text/plain": [
       "Eq(P_{lab}(t), Matrix([\n",
       "[                                                                                                                     P_0*\\Omega*\\omega_L*(1 - cos(a*t))/(\\Omega**2 + \\omega_L**2)],\n",
       "[P_0*(\\omega_L*(\\Omega**2 + \\omega_L**2)*sin(\\Omega*t)*sin(a*t) + sqrt(\\Omega**2 + \\omega_L**2)*(\\Omega**2 + \\omega_L**2*cos(a*t))*cos(\\Omega*t))/(\\Omega**2 + \\omega_L**2)**(3/2)],\n",
       "[P_0*(\\omega_L*(\\Omega**2 + \\omega_L**2)*sin(a*t)*cos(\\Omega*t) - sqrt(\\Omega**2 + \\omega_L**2)*(\\Omega**2 + \\omega_L**2*cos(a*t))*sin(\\Omega*t))/(\\Omega**2 + \\omega_L**2)**(3/2)]]))"
      ]
     },
     "metadata": {},
     "output_type": "display_data"
    }
   ],
   "source": [
    "wL = sp.symbols(\"\\omega_L\")\n",
    "a_sub = sp.sqrt(wL**2 + Om**2)\n",
    "\n",
    "cos_b = -wL/a_sub\n",
    "sin_b = Om/a_sub\n",
    "\n",
    "P_t_FRLab_betasub = sp.simplify(P_t_FRLab.replace(sp.cos(beta), cos_b).replace(sp.sin(beta), sin_b))\n",
    "\n",
    "display(sp.Eq(Plab, P_t_FRLab_betasub, evaluate=False))"
   ]
  },
  {
   "cell_type": "code",
   "execution_count": 93,
   "id": "39ff00bf-6bfe-4ee7-b08f-6b094e99473c",
   "metadata": {},
   "outputs": [
    {
     "data": {
      "text/latex": [
       "$\\displaystyle \\operatorname{P_{lab}}{\\left(t \\right)} = \\left[\\begin{matrix}\\frac{P_{0} \\Omega \\omega_{L} \\left(1 - \\cos{\\left(t \\sqrt{\\Omega^{2} + \\omega_{L}^{2}} \\right)}\\right)}{\\Omega^{2} + \\omega_{L}^{2}}\\\\\\frac{P_{0} \\left(\\omega_{L} \\left(\\Omega^{2} + \\omega_{L}^{2}\\right) \\sin{\\left(\\Omega t \\right)} \\sin{\\left(t \\sqrt{\\Omega^{2} + \\omega_{L}^{2}} \\right)} + \\sqrt{\\Omega^{2} + \\omega_{L}^{2}} \\left(\\Omega^{2} + \\omega_{L}^{2} \\cos{\\left(t \\sqrt{\\Omega^{2} + \\omega_{L}^{2}} \\right)}\\right) \\cos{\\left(\\Omega t \\right)}\\right)}{\\left(\\Omega^{2} + \\omega_{L}^{2}\\right)^{\\frac{3}{2}}}\\\\\\frac{P_{0} \\left(\\omega_{L} \\left(\\Omega^{2} + \\omega_{L}^{2}\\right) \\sin{\\left(t \\sqrt{\\Omega^{2} + \\omega_{L}^{2}} \\right)} \\cos{\\left(\\Omega t \\right)} - \\sqrt{\\Omega^{2} + \\omega_{L}^{2}} \\left(\\Omega^{2} + \\omega_{L}^{2} \\cos{\\left(t \\sqrt{\\Omega^{2} + \\omega_{L}^{2}} \\right)}\\right) \\sin{\\left(\\Omega t \\right)}\\right)}{\\left(\\Omega^{2} + \\omega_{L}^{2}\\right)^{\\frac{3}{2}}}\\end{matrix}\\right]$"
      ],
      "text/plain": [
       "Eq(P_{lab}(t), Matrix([\n",
       "[                                                                                                                                                 P_0*\\Omega*\\omega_L*(1 - cos(t*sqrt(\\Omega**2 + \\omega_L**2)))/(\\Omega**2 + \\omega_L**2)],\n",
       "[P_0*(\\omega_L*(\\Omega**2 + \\omega_L**2)*sin(\\Omega*t)*sin(t*sqrt(\\Omega**2 + \\omega_L**2)) + sqrt(\\Omega**2 + \\omega_L**2)*(\\Omega**2 + \\omega_L**2*cos(t*sqrt(\\Omega**2 + \\omega_L**2)))*cos(\\Omega*t))/(\\Omega**2 + \\omega_L**2)**(3/2)],\n",
       "[P_0*(\\omega_L*(\\Omega**2 + \\omega_L**2)*sin(t*sqrt(\\Omega**2 + \\omega_L**2))*cos(\\Omega*t) - sqrt(\\Omega**2 + \\omega_L**2)*(\\Omega**2 + \\omega_L**2*cos(t*sqrt(\\Omega**2 + \\omega_L**2)))*sin(\\Omega*t))/(\\Omega**2 + \\omega_L**2)**(3/2)]]))"
      ]
     },
     "metadata": {},
     "output_type": "display_data"
    }
   ],
   "source": [
    "P_t_FRLab_Asub = sp.simplify(P_t_FRLab_betasub.replace(a, a_sub))\n",
    "\n",
    "display(sp.Eq(Plab, P_t_FRLab_Asub, evaluate=False))"
   ]
  },
  {
   "cell_type": "markdown",
   "id": "7d2b2cd9-8ab3-4d12-90cf-3de44f39e396",
   "metadata": {},
   "source": [
    "now use $a=\\sqrt{ \\Omega^2 +\\omega_L^2} = \\Omega\\sqrt{1+k^2}$ and $k = \\omega_L/\\Omega$"
   ]
  },
  {
   "cell_type": "code",
   "execution_count": 100,
   "id": "397a5666-c48a-4c09-8fef-44086fb22dc9",
   "metadata": {},
   "outputs": [
    {
     "data": {
      "text/latex": [
       "$\\displaystyle \\operatorname{P_{lab}}{\\left(t \\right)} = \\left[\\begin{matrix}\\frac{P_{0} k \\left(1 - \\cos{\\left(\\Omega t \\sqrt{k^{2} + 1} \\right)}\\right)}{k^{2} + 1}\\\\\\frac{P_{0} \\Omega^{2} \\left(\\Omega k \\left(k^{2} + 1\\right) \\sin{\\left(\\Omega t \\right)} \\sin{\\left(\\Omega t \\sqrt{k^{2} + 1} \\right)} + \\sqrt{\\Omega^{2} \\left(k^{2} + 1\\right)} \\left(k^{2} \\cos{\\left(\\Omega t \\sqrt{k^{2} + 1} \\right)} + 1\\right) \\cos{\\left(\\Omega t \\right)}\\right)}{\\left(\\Omega^{2} \\left(k^{2} + 1\\right)\\right)^{\\frac{3}{2}}}\\\\\\frac{P_{0} \\Omega^{2} \\left(\\Omega k \\left(k^{2} + 1\\right) \\sin{\\left(\\Omega t \\sqrt{k^{2} + 1} \\right)} \\cos{\\left(\\Omega t \\right)} - \\sqrt{\\Omega^{2} \\left(k^{2} + 1\\right)} \\left(k^{2} \\cos{\\left(\\Omega t \\sqrt{k^{2} + 1} \\right)} + 1\\right) \\sin{\\left(\\Omega t \\right)}\\right)}{\\left(\\Omega^{2} \\left(k^{2} + 1\\right)\\right)^{\\frac{3}{2}}}\\end{matrix}\\right]$"
      ],
      "text/plain": [
       "Eq(P_{lab}(t), Matrix([\n",
       "[                                                                                                                                            P_0*k*(1 - cos(\\Omega*t*sqrt(k**2 + 1)))/(k**2 + 1)],\n",
       "[P_0*\\Omega**2*(\\Omega*k*(k**2 + 1)*sin(\\Omega*t)*sin(\\Omega*t*sqrt(k**2 + 1)) + sqrt(\\Omega**2*(k**2 + 1))*(k**2*cos(\\Omega*t*sqrt(k**2 + 1)) + 1)*cos(\\Omega*t))/(\\Omega**2*(k**2 + 1))**(3/2)],\n",
       "[P_0*\\Omega**2*(\\Omega*k*(k**2 + 1)*sin(\\Omega*t*sqrt(k**2 + 1))*cos(\\Omega*t) - sqrt(\\Omega**2*(k**2 + 1))*(k**2*cos(\\Omega*t*sqrt(k**2 + 1)) + 1)*sin(\\Omega*t))/(\\Omega**2*(k**2 + 1))**(3/2)]]))"
      ]
     },
     "metadata": {},
     "output_type": "display_data"
    }
   ],
   "source": [
    "k = sp.symbols(\"k\")\n",
    "a_sub = Om*sp.sqrt(1 + k**2)\n",
    "\n",
    "sqrt = Om**2*(1 + k**2)\n",
    "\n",
    "P_t_FRLab_k1 = sp.simplify(P_t_FRLab_betasub.replace(a, a_sub).replace((Om**2+wL**2), sqrt))\n",
    "P_t_FRLab_k = sp.simplify(P_t_FRLab_k1.replace(wL, k*Om))\n",
    "\n",
    "\n",
    "display(sp.Eq(Plab, P_t_FRLab_k, evaluate=False))"
   ]
  },
  {
   "cell_type": "markdown",
   "id": "43124c7d-8ad3-4970-8ade-06a00c1af520",
   "metadata": {},
   "source": [
    "Now we know $t=\\theta / \\Omega$"
   ]
  },
  {
   "cell_type": "code",
   "execution_count": 111,
   "id": "ae980933-3304-46cd-8691-755a5ebdfb22",
   "metadata": {},
   "outputs": [
    {
     "data": {
      "text/latex": [
       "$\\displaystyle \\operatorname{P_{lab}}{\\left(t \\right)} = \\left[\\begin{matrix}\\frac{P_{0} k \\left(1 - \\cos{\\left(\\theta \\sqrt{k^{2} + 1} \\right)}\\right)}{k^{2} + 1}\\\\\\frac{P_{0} \\Omega^{2} \\left(\\Omega k \\left(k^{2} + 1\\right) \\sin{\\left(\\theta \\right)} \\sin{\\left(\\theta \\sqrt{k^{2} + 1} \\right)} + \\sqrt{\\Omega^{2} \\left(k^{2} + 1\\right)} \\left(k^{2} \\cos{\\left(\\theta \\sqrt{k^{2} + 1} \\right)} + 1\\right) \\cos{\\left(\\theta \\right)}\\right)}{\\left(\\Omega^{2} \\left(k^{2} + 1\\right)\\right)^{\\frac{3}{2}}}\\\\\\frac{P_{0} \\Omega^{2} \\left(\\Omega k \\left(k^{2} + 1\\right) \\sin{\\left(\\theta \\sqrt{k^{2} + 1} \\right)} \\cos{\\left(\\theta \\right)} - \\sqrt{\\Omega^{2} \\left(k^{2} + 1\\right)} \\left(k^{2} \\cos{\\left(\\theta \\sqrt{k^{2} + 1} \\right)} + 1\\right) \\sin{\\left(\\theta \\right)}\\right)}{\\left(\\Omega^{2} \\left(k^{2} + 1\\right)\\right)^{\\frac{3}{2}}}\\end{matrix}\\right]$"
      ],
      "text/plain": [
       "Eq(P_{lab}(t), Matrix([\n",
       "[                                                                                                                                      P_0*k*(1 - cos(\\theta*sqrt(k**2 + 1)))/(k**2 + 1)],\n",
       "[P_0*\\Omega**2*(\\Omega*k*(k**2 + 1)*sin(\\theta)*sin(\\theta*sqrt(k**2 + 1)) + sqrt(\\Omega**2*(k**2 + 1))*(k**2*cos(\\theta*sqrt(k**2 + 1)) + 1)*cos(\\theta))/(\\Omega**2*(k**2 + 1))**(3/2)],\n",
       "[P_0*\\Omega**2*(\\Omega*k*(k**2 + 1)*sin(\\theta*sqrt(k**2 + 1))*cos(\\theta) - sqrt(\\Omega**2*(k**2 + 1))*(k**2*cos(\\theta*sqrt(k**2 + 1)) + 1)*sin(\\theta))/(\\Omega**2*(k**2 + 1))**(3/2)]]))"
      ]
     },
     "metadata": {},
     "output_type": "display_data"
    },
    {
     "name": "stdout",
     "output_type": "stream",
     "text": [
      "\\left[\\begin{matrix}\\frac{P_{0} k \\left(1 - \\cos{\\left(\\theta \\sqrt{k^{2} + 1} \\right)}\\right)}{k^{2} + 1}\\\\\\frac{P_{0} \\Omega^{2} \\left(\\Omega k \\left(k^{2} + 1\\right) \\sin{\\left(\\theta \\right)} \\sin{\\left(\\theta \\sqrt{k^{2} + 1} \\right)} + \\sqrt{\\Omega^{2} \\left(k^{2} + 1\\right)} \\left(k^{2} \\cos{\\left(\\theta \\sqrt{k^{2} + 1} \\right)} + 1\\right) \\cos{\\left(\\theta \\right)}\\right)}{\\left(\\Omega^{2} \\left(k^{2} + 1\\right)\\right)^{\\frac{3}{2}}}\\\\\\frac{P_{0} \\Omega^{2} \\left(\\Omega k \\left(k^{2} + 1\\right) \\sin{\\left(\\theta \\sqrt{k^{2} + 1} \\right)} \\cos{\\left(\\theta \\right)} - \\sqrt{\\Omega^{2} \\left(k^{2} + 1\\right)} \\left(k^{2} \\cos{\\left(\\theta \\sqrt{k^{2} + 1} \\right)} + 1\\right) \\sin{\\left(\\theta \\right)}\\right)}{\\left(\\Omega^{2} \\left(k^{2} + 1\\right)\\right)^{\\frac{3}{2}}}\\end{matrix}\\right]\n"
     ]
    }
   ],
   "source": [
    "the = sp.symbols(\"\\\\theta\")\n",
    "t_sub = the/Om\n",
    "\n",
    "P_t_FRLab_theta = sp.simplify(P_t_FRLab_k.replace(t, t_sub))\n",
    "\n",
    "display(sp.Eq(Plab, P_t_FRLab_theta, evaluate=False))\n",
    "print(sp.latex(P_t_FRLab_theta))"
   ]
  },
  {
   "cell_type": "markdown",
   "id": "0bdb5956-7358-47c8-8b7f-e96dcebce9f5",
   "metadata": {},
   "source": [
    "Setting $\\theta = \\frac{\\pi}{2}$"
   ]
  },
  {
   "cell_type": "code",
   "execution_count": 112,
   "id": "30d86934-51b9-4931-bf96-43466c579e1b",
   "metadata": {},
   "outputs": [
    {
     "data": {
      "text/latex": [
       "$\\displaystyle \\operatorname{P_{lab}}{\\left(t \\right)} = \\left[\\begin{matrix}\\frac{P_{0} k \\left(1 - \\cos{\\left(\\frac{\\pi \\sqrt{k^{2} + 1}}{2} \\right)}\\right)}{k^{2} + 1}\\\\\\frac{P_{0} \\Omega k \\sin{\\left(\\frac{\\pi \\sqrt{k^{2} + 1}}{2} \\right)}}{\\sqrt{\\Omega^{2} \\left(k^{2} + 1\\right)}}\\\\- \\frac{P_{0} \\left(k^{2} \\cos{\\left(\\frac{\\pi \\sqrt{k^{2} + 1}}{2} \\right)} + 1\\right)}{k^{2} + 1}\\end{matrix}\\right]$"
      ],
      "text/plain": [
       "Eq(P_{lab}(t), Matrix([\n",
       "[                 P_0*k*(1 - cos(pi*sqrt(k**2 + 1)/2))/(k**2 + 1)],\n",
       "[P_0*\\Omega*k*sin(pi*sqrt(k**2 + 1)/2)/sqrt(\\Omega**2*(k**2 + 1))],\n",
       "[             -P_0*(k**2*cos(pi*sqrt(k**2 + 1)/2) + 1)/(k**2 + 1)]]))"
      ]
     },
     "metadata": {},
     "output_type": "display_data"
    },
    {
     "name": "stdout",
     "output_type": "stream",
     "text": [
      "\\left[\\begin{matrix}\\frac{P_{0} k \\left(1 - \\cos{\\left(\\frac{\\pi \\sqrt{k^{2} + 1}}{2} \\right)}\\right)}{k^{2} + 1}\\\\\\frac{P_{0} \\Omega k \\sin{\\left(\\frac{\\pi \\sqrt{k^{2} + 1}}{2} \\right)}}{\\sqrt{\\Omega^{2} \\left(k^{2} + 1\\right)}}\\\\- \\frac{P_{0} \\left(k^{2} \\cos{\\left(\\frac{\\pi \\sqrt{k^{2} + 1}}{2} \\right)} + 1\\right)}{k^{2} + 1}\\end{matrix}\\right]\n"
     ]
    }
   ],
   "source": [
    "P_t_FRLab_90 = sp.simplify(P_t_FRLab_theta.replace(the, sp.pi/2))\n",
    "\n",
    "display(sp.Eq(Plab, P_t_FRLab_90, evaluate=False))\n",
    "print(sp.latex(P_t_FRLab_90))"
   ]
  },
  {
   "cell_type": "code",
   "execution_count": null,
   "id": "217cc5e8-bba7-498a-aaf1-eeb066642be0",
   "metadata": {},
   "outputs": [],
   "source": []
  }
 ],
 "metadata": {
  "kernelspec": {
   "display_name": "Python 3",
   "language": "python",
   "name": "python3"
  },
  "language_info": {
   "codemirror_mode": {
    "name": "ipython",
    "version": 3
   },
   "file_extension": ".py",
   "mimetype": "text/x-python",
   "name": "python",
   "nbconvert_exporter": "python",
   "pygments_lexer": "ipython3",
   "version": "3.8.8"
  }
 },
 "nbformat": 4,
 "nbformat_minor": 5
}
