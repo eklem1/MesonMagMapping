{
 "cells": [
  {
   "cell_type": "code",
   "execution_count": 1,
   "id": "ddcf8a79-351f-42b7-9777-0030e84ce154",
   "metadata": {},
   "outputs": [],
   "source": [
    "import numpy as np\n",
    "import matplotlib.pyplot as plt\n",
    "import uproot as up\n",
    "from stl import mesh\n",
    "from mpl_toolkits import mplot3d\n",
    "import pandas as pd\n",
    "import sys, os\n",
    "sys.path.insert(1, '../../PENTrackAnalysis/')\n",
    "import ParticlePlottingFunctions as ppf"
   ]
  },
  {
   "cell_type": "code",
   "execution_count": null,
   "id": "c44b7472-2798-4278-b249-27a588f7a7de",
   "metadata": {},
   "outputs": [],
   "source": []
  },
  {
   "cell_type": "code",
   "execution_count": 13,
   "id": "70a91b85-31f4-4e6c-90e1-148fe7a1d4b5",
   "metadata": {},
   "outputs": [],
   "source": [
    "df1 = pd.read_csv('Mapping_0809_RUN1.csv')\n",
    "df2 = pd.read_csv('Mapping_0809_RUN2.csv')\n",
    "df3 = pd.read_csv('Mapping_0809_RUN3.csv')\n",
    "df4 = pd.read_csv('Mapping_0809_RUN4.csv')\n",
    "\n",
    "df_all0 = df1.append(df2)\n",
    "df_all1  = df_all0.append(df3)\n",
    "df_all  = df_all1.append(df4)"
   ]
  },
  {
   "cell_type": "code",
   "execution_count": 16,
   "id": "93a955f0-b593-4922-98c7-9bd744dc7af7",
   "metadata": {},
   "outputs": [
    {
     "name": "stdout",
     "output_type": "stream",
     "text": [
      "[ 40.   40.   40.   40.  -60.   88.5  40.   40.   40.   40. ]\n",
      "[-146.13 -106.13  -66.13  -26.13   13.87  -46.13   42.37   82.37  122.37\n",
      "  162.37  202.37]\n"
     ]
    }
   ],
   "source": [
    "# print(np.diff(df1.v.unique()))\n",
    "# print(np.diff(df2.v.unique()))\n",
    "# print(np.diff(df3.v.unique()))\n",
    "print(np.diff(df_all.v.unique()))\n",
    "print(df_all.v.unique())"
   ]
  },
  {
   "cell_type": "code",
   "execution_count": 21,
   "id": "6e1ceb76-0dc6-4f44-b662-2e72e935338a",
   "metadata": {},
   "outputs": [
    {
     "name": "stdout",
     "output_type": "stream",
     "text": [
      "[-234.28 -194.28 -154.28 -114.28  -74.28 -134.28  -45.78   -5.78   34.22\n",
      "   74.22  114.22]\n",
      "[ 40.   40.   40.   40.  -60.   88.5  40.   40.   40.   40. ]\n"
     ]
    }
   ],
   "source": [
    "df_all['x'] = - df_all.u + 10.25\n",
    "df_all['y'] = -df_all.w\n",
    "df_all['z'] = df_all.v -1.25 + 188.1 -275 #-> sets z = 0 to the center of the MSR \n",
    "# -1.25cm accounts for the position of the sensing center of the probe and the marker on the probe. \n",
    "# + 188.1cm: from z=0 of the measurement to the floor, -275cm: from the floor to the planned center of MSR\n",
    "# df_all['z'] = df_all.v -1.25 ## previous version\n",
    "print(df_all.z.unique())\n",
    "print(np.diff(df_all.z.unique()))\n"
   ]
  },
  {
   "cell_type": "code",
   "execution_count": 5,
   "id": "03ceba41-4232-455d-bf21-2e6221b6f93d",
   "metadata": {},
   "outputs": [],
   "source": [
    "# print(df_all['z'])"
   ]
  },
  {
   "cell_type": "code",
   "execution_count": null,
   "id": "c64c92f0-96c3-4c9a-8b1d-25c5d11f8ec5",
   "metadata": {},
   "outputs": [],
   "source": []
  }
 ],
 "metadata": {
  "kernelspec": {
   "display_name": "Python 3",
   "language": "python",
   "name": "python3"
  },
  "language_info": {
   "codemirror_mode": {
    "name": "ipython",
    "version": 3
   },
   "file_extension": ".py",
   "mimetype": "text/x-python",
   "name": "python",
   "nbconvert_exporter": "python",
   "pygments_lexer": "ipython3",
   "version": "3.8.8"
  }
 },
 "nbformat": 4,
 "nbformat_minor": 5
}
